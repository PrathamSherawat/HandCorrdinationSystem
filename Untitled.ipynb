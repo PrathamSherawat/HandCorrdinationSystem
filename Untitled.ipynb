{
 "cells": [
  {
   "cell_type": "code",
   "execution_count": 10,
   "id": "29e10c0e-b3ed-4300-b212-ae5f3d7cc517",
   "metadata": {},
   "outputs": [],
   "source": [
    "# # Install the required library\n",
    "# !pip install ultralytics opencv-python-headless matplotlib numpy\n",
    "\n",
    "# Import necessary modules\n",
    "from ultralytics import YOLO\n",
    "import cv2\n",
    "import numpy as np\n",
    "import json\n",
    "import matplotlib.pyplot as plt\n"
   ]
  },
  {
   "cell_type": "code",
   "execution_count": 11,
   "id": "6d86bde1-d461-42e4-89c6-16d1e4b4cdca",
   "metadata": {},
   "outputs": [],
   "source": [
    "# Load the YOLO model for pose detection\n",
    "model = YOLO('yolov8n-pose.pt')  # Using YOLOv8 with pre-trained pose weights\n"
   ]
  },
  {
   "cell_type": "code",
   "execution_count": 12,
   "id": "db69f1a4-be87-4565-ac7c-73042f697066",
   "metadata": {},
   "outputs": [],
   "source": [
    "def load_image(image_path):\n",
    "    \"\"\"\n",
    "    Load an image from the provided path.\n",
    "    \"\"\"\n",
    "    image = cv2.imread(image_path)\n",
    "    if image is None:\n",
    "        raise FileNotFoundError(f\"Image not found at {image_path}\")\n",
    "    return cv2.cvtColor(image, cv2.COLOR_BGR2RGB)  # Convert BGR to RGB for display\n"
   ]
  },
  {
   "cell_type": "code",
   "execution_count": 13,
   "id": "bf5aefda-72cf-448b-ad42-45b024738fc3",
   "metadata": {},
   "outputs": [],
   "source": [
    "def annotate_image(image, keypoints, color=(0, 255, 0), radius=5):\n",
    "    \"\"\"\n",
    "    Annotate the image with keypoints.\n",
    "    \"\"\"\n",
    "    for x, y, conf in keypoints:\n",
    "        if conf > 0.5:  # Confidence threshold\n",
    "            cv2.circle(image, (int(x), int(y)), radius, color, -1)\n",
    "    return image\n"
   ]
  },
  {
   "cell_type": "code",
   "execution_count": 14,
   "id": "6fe7f488-230f-4cd5-8b45-6c40d81f8ebc",
   "metadata": {},
   "outputs": [],
   "source": [
    "def extract_hand_keypoints(results):\n",
    "    \"\"\"\n",
    "    Extract hand keypoints from YOLO pose detection results.\n",
    "    Safely handles cases where keypoints are incomplete or missing.\n",
    "    \"\"\"\n",
    "    hand_keypoints = []\n",
    "    \n",
    "    for pose in results[0].keypoints:  # Iterate over detected poses\n",
    "        pose_numpy = pose.cpu().numpy()  # Convert to numpy\n",
    "        \n",
    "        # Check if keypoints array is large enough to include hands\n",
    "        if pose_numpy.shape[0] > 10:  # Ensure we have at least 11 keypoints\n",
    "            left_hand = pose_numpy[9]  # Index 9 corresponds to the left hand\n",
    "            right_hand = pose_numpy[10]  # Index 10 corresponds to the right hand\n",
    "        else:\n",
    "            # Handle missing keypoints by setting default values\n",
    "            left_hand = [None, None]\n",
    "            right_hand = [None, None]\n",
    "        \n",
    "        # Append the detected hands\n",
    "        hand_keypoints.append({\n",
    "            \"hand1\": [float(left_hand[0]) if left_hand[0] is not None else None,\n",
    "                      float(left_hand[1]) if left_hand[1] is not None else None],\n",
    "            \"hand2\": [float(right_hand[0]) if right_hand[0] is not None else None,\n",
    "                      float(right_hand[1]) if right_hand[1] is not None else None]\n",
    "        })\n",
    "    \n",
    "    return hand_keypoints\n"
   ]
  },
  {
   "cell_type": "code",
   "execution_count": 15,
   "id": "b02e1ed0-d426-41c5-9a62-e1df8a5f6e6b",
   "metadata": {},
   "outputs": [],
   "source": [
    "def detect_pose(image_path):\n",
    "    \"\"\"\n",
    "    Perform pose detection on the input image.\n",
    "    Returns annotated image and hand keypoints.\n",
    "    \"\"\"\n",
    "    # Load the image\n",
    "    image = load_image(image_path)\n",
    "    \n",
    "    # Run YOLO pose detection\n",
    "    results = model(image)\n",
    "    \n",
    "    # Extract human keypoints\n",
    "    hand_keypoints = extract_hand_keypoints(results)\n",
    "    \n",
    "    # Annotate the image with hand keypoints\n",
    "    annotated_image = image.copy()\n",
    "    for keypoints in hand_keypoints:\n",
    "        if keypoints[\"hand1\"][0] is not None and keypoints[\"hand1\"][1] is not None:\n",
    "            cv2.circle(annotated_image, \n",
    "                       (int(keypoints[\"hand1\"][0]), int(keypoints[\"hand1\"][1])), \n",
    "                       radius=5, color=(0, 255, 0), thickness=-1)\n",
    "        if keypoints[\"hand2\"][0] is not None and keypoints[\"hand2\"][1] is not None:\n",
    "            cv2.circle(annotated_image, \n",
    "                       (int(keypoints[\"hand2\"][0]), int(keypoints[\"hand2\"][1])), \n",
    "                       radius=5, color=(255, 0, 0), thickness=-1)\n",
    "    \n",
    "    return annotated_image, hand_keypoints\n"
   ]
  },
  {
   "cell_type": "code",
   "execution_count": 16,
   "id": "a7410f4e-4db2-4cfc-8ad5-08a0e3cbcf7f",
   "metadata": {},
   "outputs": [],
   "source": [
    "def save_to_json(image_name, hand_keypoints, output_path=\"output.json\"):\n",
    "    \"\"\"\n",
    "    Save hand keypoints to a JSON file.\n",
    "    \"\"\"\n",
    "    json_data = {\"hands\": [{\"imagename\": image_name, \"hand1\": hk[\"hand1\"], \"hand2\": hk[\"hand2\"]} for hk in hand_keypoints]}\n",
    "    with open(output_path, \"w\") as json_file:\n",
    "        json.dump(json_data, json_file, indent=4)\n"
   ]
  },
  {
   "cell_type": "code",
   "execution_count": null,
   "id": "7a6b28b8-5178-485e-b437-5fb0ed586e4c",
   "metadata": {},
   "outputs": [
    {
     "name": "stdout",
     "output_type": "stream",
     "text": [
      "\n",
      "0: 448x640 1 person, 157.6ms\n",
      "Speed: 11.8ms preprocess, 157.6ms inference, 13.4ms postprocess per image at shape (1, 3, 448, 640)\n"
     ]
    }
   ],
   "source": [
    "# Input image path\n",
    "image_path = \"test_image_1.jpg\"  # Replace with your image path\n",
    "image_name = image_path.split(\"/\")[-1]\n",
    "\n",
    "# Perform pose detection\n",
    "annotated_image, hand_keypoints = detect_pose(image_path)\n",
    "\n",
    "# Save JSON results\n",
    "save_to_json(image_name, hand_keypoints, \"hand_keypoints.json\")\n",
    "\n",
    "# Display annotated image\n",
    "plt.figure(figsize=(10, 10))\n",
    "plt.imshow(annotated_image)\n",
    "plt.axis(\"off\")\n",
    "plt.title(\"Annotated Image with Hand Keypoints\")\n",
    "plt.show()\n"
   ]
  },
  {
   "cell_type": "code",
   "execution_count": null,
   "id": "dc6e4cae-32fd-42bb-b22b-72ecb4427742",
   "metadata": {},
   "outputs": [],
   "source": []
  }
 ],
 "metadata": {
  "kernelspec": {
   "display_name": "Python 3 (ipykernel)",
   "language": "python",
   "name": "python3"
  },
  "language_info": {
   "codemirror_mode": {
    "name": "ipython",
    "version": 3
   },
   "file_extension": ".py",
   "mimetype": "text/x-python",
   "name": "python",
   "nbconvert_exporter": "python",
   "pygments_lexer": "ipython3",
   "version": "3.12.7"
  }
 },
 "nbformat": 4,
 "nbformat_minor": 5
}
